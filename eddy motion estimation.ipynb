{
 "cells": [
  {
   "cell_type": "markdown",
   "id": "short-cylinder",
   "metadata": {},
   "source": [
    "# Run EddyMotionEstimator with chunk-by-chunk parallelization of tensormodel fit"
   ]
  },
  {
   "cell_type": "markdown",
   "id": "amazing-cinema",
   "metadata": {},
   "source": [
    "## Imports"
   ]
  },
  {
   "cell_type": "code",
   "execution_count": 1,
   "id": "endangered-alias",
   "metadata": {
    "ExecuteTime": {
     "end_time": "2023-08-28T05:08:59.883038800Z",
     "start_time": "2023-08-28T05:08:59.062148500Z"
    }
   },
   "outputs": [],
   "source": [
    "from pathlib import Path\n",
    "import datalad.api"
   ]
  },
  {
   "cell_type": "markdown",
   "id": "fatal-makeup",
   "metadata": {},
   "source": [
    "## Paths setup"
   ]
  },
  {
   "cell_type": "code",
   "execution_count": 2,
   "id": "fitting-discussion",
   "metadata": {
    "ExecuteTime": {
     "end_time": "2023-08-28T05:08:59.890366800Z",
     "start_time": "2023-08-28T05:08:59.886632300Z"
    }
   },
   "outputs": [],
   "source": [
    "# Set the installation directory and cmp derivatives directory where DTI and mask are located.\n",
    "root_dir = Path('3323_niigz')\n",
    "\n",
    "# Set the path of the files used for testing\n",
    "dwi_file = root_dir / '3323_DTI_DTI_pulse_gated_AC_PC_line_20120719121427_2.nii.gz'\n",
    "bvec_file = root_dir / '3323_DTI_DTI_pulse_gated_AC_PC_line_20120719121427_2.bvec'\n",
    "bval_file = root_dir / '3323_DTI_DTI_pulse_gated_AC_PC_line_20120719121427_2.bval'\n",
    "brain_mask_file = root_dir / '3323-brain_mask.nii.gz'\n",
    "mean_B0_file = root_dir / '3323-mean_b0.nii.gz'\n",
    "rasb_file = root_dir / '3323_dwi_rasb.tsv'"
   ]
  },
  {
   "cell_type": "code",
   "execution_count": 3,
   "id": "congressional-question",
   "metadata": {
    "ExecuteTime": {
     "end_time": "2023-08-28T05:09:19.500002600Z",
     "start_time": "2023-08-28T05:09:19.490181Z"
    }
   },
   "outputs": [],
   "source": [
    "def fslgrad2rasb(dwi_file, fbval, fbvec, out_rasbn_file):\n",
    "    \"\"\"Save gradient table in RAS+B format taking as input the DWI with FSL `.bval` and `.bvec`.\"\"\"\n",
    "    import numpy as np\n",
    "    from nibabel import load\n",
    "    from dipy.io import read_bvals_bvecs\n",
    "    \n",
    "    # Read / Load\n",
    "    img = load(str(dwi_file))\n",
    "    bvals, bvecs = read_bvals_bvecs(str(fbval), str(fbvec))\n",
    "    \n",
    "    # Apply the affine transform to bvecs\n",
    "    bvecs_tr = np.matmul(img.affine[:3,:3], bvecs.T).T\n",
    "    \n",
    "    # Normalize the bvecs\n",
    "    norm = np.sum(bvecs_tr**2, axis=1)\n",
    "    bvecs_tr_norm = np.zeros_like(bvecs_tr)\n",
    "    for i in range(bvecs_tr.shape[0]):\n",
    "        bvecs_tr_norm[i, :] = bvecs_tr[i, :] / norm[i] \n",
    "    # Handles bzeros\n",
    "    bvecs_tr_norm = np.nan_to_num(bvecs_tr_norm)\n",
    "    \n",
    "    rasbn = np.c_[bvecs_tr_norm, bvals]\n",
    "    print(rasbn)\n",
    "    \n",
    "    # Save Nx4 numpy matrix in TSV text file\n",
    "    np.savetxt(fname=str(out_rasbn_file),\n",
    "               delimiter=\"\\t\",\n",
    "               X=rasbn)\n"
   ]
  },
  {
   "cell_type": "code",
   "execution_count": 4,
   "id": "passive-commons",
   "metadata": {
    "ExecuteTime": {
     "end_time": "2023-08-28T05:09:30.578616700Z",
     "start_time": "2023-08-28T05:09:29.030207300Z"
    }
   },
   "outputs": [
    {
     "name": "stderr",
     "output_type": "stream",
     "text": [
      "C:\\Users\\Jiayi&Zihao\\AppData\\Local\\Temp\\ipykernel_4304\\2281982829.py:18: RuntimeWarning: invalid value encountered in divide\n",
      "  bvecs_tr_norm[i, :] = bvecs_tr[i, :] / norm[i]\n"
     ]
    },
    {
     "name": "stdout",
     "output_type": "stream",
     "text": [
      "[[ 0.00000000e+00  0.00000000e+00  0.00000000e+00  0.00000000e+00]\n",
      " [-5.04332268e-01  3.02853164e-03 -1.92084334e-03  1.00000000e+03]\n",
      " [-4.74892925e-04  5.04188376e-01  2.72619862e-03  1.00000000e+03]\n",
      " [ 1.25652176e-02  3.26357024e-01 -3.79993049e-01  1.00000000e+03]\n",
      " [-2.97049841e-01 -3.88123376e-01 -1.24352234e-01  1.00000000e+03]\n",
      " [ 1.18060059e-01 -2.64586427e-01 -4.10170961e-01  1.00000000e+03]\n",
      " [ 4.49618299e-01 -1.33186375e-01 -1.84337504e-01  1.00000000e+03]\n",
      " [-4.00367650e-01  6.72588561e-02 -2.96782209e-01  1.00000000e+03]\n",
      " [-1.17242862e-01  4.68900611e-01 -1.41000469e-01  1.00000000e+03]\n",
      " [-4.71891971e-01  7.29307749e-02 -1.61057802e-01  1.00000000e+03]\n",
      " [-2.53855806e-01 -4.26575035e-01  8.62199626e-02  1.00000000e+03]\n",
      " [-1.73126975e-01 -4.27287351e-01  2.01045950e-01  1.00000000e+03]\n",
      " [-2.28057800e-01 -3.18207892e-01  3.14078202e-01  1.00000000e+03]\n",
      " [ 2.43623069e-01 -1.96986447e-01 -3.92472188e-01  1.00000000e+03]\n",
      " [ 3.09914069e-01  3.40073910e-01 -2.03394371e-01  1.00000000e+03]\n",
      " [ 2.88513405e-01 -5.03222800e-02  4.07203639e-01  1.00000000e+03]\n",
      " [ 4.15843330e-01 -2.65188757e-01 -1.05089874e-01  1.00000000e+03]\n",
      " [-4.49838741e-01 -1.76813669e-02  2.25214758e-01  1.00000000e+03]\n",
      " [-1.44469268e-01 -2.72609064e-01  3.94650375e-01  1.00000000e+03]\n",
      " [-5.79633488e-02 -4.85123547e-01  1.21932662e-01  1.00000000e+03]\n",
      " [ 4.02371370e-01  2.05584152e-01  2.22982243e-01  1.00000000e+03]\n",
      " [-2.58216913e-01  4.24266247e-01 -8.52250230e-02  1.00000000e+03]\n",
      " [ 3.96049164e-01  7.96228051e-02  2.99909420e-01  1.00000000e+03]\n",
      " [-4.78395760e-01 -1.20709682e-01 -1.04222763e-01  1.00000000e+03]\n",
      " [-1.16098285e-01  3.94123984e-01 -2.88731667e-01  1.00000000e+03]\n",
      " [ 9.54514141e-03 -9.19771096e-02  4.91386291e-01  1.00000000e+03]\n",
      " [-1.08625622e-01 -4.82845581e-01 -9.70941641e-02  1.00000000e+03]\n",
      " [-3.89085822e-01 -3.07073254e-01 -9.31550670e-02  1.00000000e+03]\n",
      " [ 7.96671414e-02  1.79668778e-01 -4.59977711e-01  1.00000000e+03]\n",
      " [ 7.34988085e-02  3.68927321e-01  3.34274875e-01  1.00000000e+03]\n",
      " [-4.47264114e-01  2.12345305e-01 -9.47810138e-02  1.00000000e+03]\n",
      " [ 2.81267097e-01  1.18342022e-01  3.98760876e-01  1.00000000e+03]\n",
      " [ 1.89651897e-01  6.96615498e-02 -4.57954066e-01  1.00000000e+03]\n",
      " [ 1.52293334e-01 -1.01736567e-01  4.65772107e-01  1.00000000e+03]\n",
      " [ 1.65485549e-01 -6.68556559e-02 -4.67939569e-01  1.00000000e+03]\n",
      " [ 4.84997813e-01 -1.36976170e-01 -1.94979435e-02  1.00000000e+03]\n",
      " [ 4.83644136e-01  1.05633859e-01 -9.49392821e-02  1.00000000e+03]\n",
      " [-2.27144250e-01 -4.48734201e-01 -3.67886811e-02  1.00000000e+03]\n",
      " [ 3.88750434e-01  3.18231700e-01 -4.17629958e-02  1.00000000e+03]\n",
      " [-3.55900605e-01  2.07154389e-01 -2.88287908e-01  1.00000000e+03]\n",
      " [ 3.47211443e-01  9.94112715e-03 -3.62442115e-01  1.00000000e+03]\n",
      " [-3.42259281e-01  2.68320713e-01  2.53938666e-01  1.00000000e+03]\n",
      " [ 7.06886077e-02 -3.66194227e-01 -3.37755798e-01  1.00000000e+03]\n",
      " [ 3.71233795e-01  1.97406284e-01 -2.75350804e-01  1.00000000e+03]\n",
      " [ 5.09539524e-02  4.13664868e-01 -2.80103439e-01  1.00000000e+03]\n",
      " [-2.93305567e-01 -3.02362865e-01 -2.76047669e-01  1.00000000e+03]\n",
      " [ 4.32904125e-02 -1.69334567e-01 -4.69694151e-01  1.00000000e+03]\n",
      " [ 2.77407955e-01 -4.01239600e-01 -1.27917632e-01  1.00000000e+03]\n",
      " [-4.21348598e-01 -2.33107624e-01  1.47600601e-01  1.00000000e+03]\n",
      " [-1.81738977e-01 -2.83693938e-01 -3.73149203e-01  1.00000000e+03]\n",
      " [ 9.13296828e-02  1.98179016e-01  4.51603819e-01  1.00000000e+03]\n",
      " [ 3.62537547e-01 -3.50487107e-01 -7.08606535e-03  1.00000000e+03]\n",
      " [-2.16992266e-01  3.44988148e-01  2.95553010e-01  1.00000000e+03]\n",
      " [-2.51559486e-01  3.48414428e-01 -2.60723278e-01  1.00000000e+03]\n",
      " [ 8.49091071e-02 -2.56280844e-01  4.21647777e-01  1.00000000e+03]\n",
      " [-2.31129487e-01  2.14141431e-01 -3.89967079e-01  1.00000000e+03]\n",
      " [-1.93166079e-01 -4.09467858e-01 -2.21557175e-01  1.00000000e+03]\n",
      " [ 3.57771683e-01 -1.26523423e-01 -3.29692181e-01  1.00000000e+03]\n",
      " [-1.30260313e-01  4.47135257e-01  1.93058213e-01  1.00000000e+03]\n",
      " [-1.13055993e-03  4.00969835e-02  4.98712620e-01  1.00000000e+03]\n",
      " [-1.82440892e-02 -4.55827590e-01 -2.14473953e-01  1.00000000e+03]\n",
      " [-2.84826326e-01 -1.54272624e-01  3.82708628e-01  1.00000000e+03]\n",
      " [ 1.40285417e-01  7.43634886e-02  4.75052336e-01  1.00000000e+03]\n",
      " [-3.62597951e-01  3.07912099e-01 -1.65282705e-01  1.00000000e+03]\n",
      " [-1.34223415e-01  4.83956056e-01  4.58691203e-02  1.00000000e+03]]\n"
     ]
    }
   ],
   "source": [
    "# Convert the gradient in FSL bval/bvec format to RAS+B format\n",
    "fslgrad2rasb(dwi_file, bval_file, bvec_file, rasb_file)"
   ]
  },
  {
   "cell_type": "code",
   "execution_count": 6,
   "id": "rising-synthetic",
   "metadata": {
    "ExecuteTime": {
     "end_time": "2023-08-28T05:09:57.279342200Z",
     "start_time": "2023-08-28T05:09:56.309648900Z"
    }
   },
   "outputs": [],
   "source": [
    "from eddymotion import dmri\n",
    "data = dmri.load(\n",
    "    str(dwi_file),\n",
    "    gradients_file=str(rasb_file),\n",
    "    b0_file=str(mean_B0_file),\n",
    "    # brainmask_file=str(brain_mask_file)\n",
    "    )"
   ]
  },
  {
   "cell_type": "code",
   "execution_count": 1,
   "id": "realistic-assignment",
   "metadata": {
    "scrolled": false,
    "ExecuteTime": {
     "end_time": "2023-08-28T13:53:01.163407900Z",
     "start_time": "2023-08-28T13:52:56.059377400Z"
    }
   },
   "outputs": [
    {
     "ename": "NameError",
     "evalue": "name 'data' is not defined",
     "output_type": "error",
     "traceback": [
      "\u001B[1;31m---------------------------------------------------------------------------\u001B[0m",
      "\u001B[1;31mNameError\u001B[0m                                 Traceback (most recent call last)",
      "Cell \u001B[1;32mIn[1], line 2\u001B[0m\n\u001B[0;32m      1\u001B[0m \u001B[38;5;28;01mfrom\u001B[39;00m \u001B[38;5;21;01meddymotion\u001B[39;00m\u001B[38;5;21;01m.\u001B[39;00m\u001B[38;5;21;01mestimator\u001B[39;00m \u001B[38;5;28;01mimport\u001B[39;00m EddyMotionEstimator\n\u001B[1;32m----> 2\u001B[0m EddyMotionEstimator\u001B[38;5;241m.\u001B[39mfit(data, model\u001B[38;5;241m=\u001B[39m\u001B[38;5;124m\"\u001B[39m\u001B[38;5;124mb0\u001B[39m\u001B[38;5;124m\"\u001B[39m)\n",
      "\u001B[1;31mNameError\u001B[0m: name 'data' is not defined"
     ]
    }
   ],
   "source": [
    "from eddymotion.estimator import EddyMotionEstimator\n",
    "EddyMotionEstimator.fit(data, model=\"b0\")"
   ]
  },
  {
   "cell_type": "code",
   "execution_count": 12,
   "id": "stuck-recognition",
   "metadata": {
    "ExecuteTime": {
     "end_time": "2023-08-28T05:37:16.403933400Z",
     "start_time": "2023-08-28T05:37:15.674727300Z"
    }
   },
   "outputs": [
    {
     "ename": "ValueError",
     "evalue": "matmul: Input operand 1 has a mismatch in its core dimension 0, with gufunc signature (n?,k),(k,m?)->(n?,m?) (size 4 is different from 3)",
     "output_type": "error",
     "traceback": [
      "\u001B[1;31m---------------------------------------------------------------------------\u001B[0m",
      "\u001B[1;31mValueError\u001B[0m                                Traceback (most recent call last)",
      "Cell \u001B[1;32mIn[12], line 4\u001B[0m\n\u001B[0;32m      2\u001B[0m \u001B[38;5;28;01mfrom\u001B[39;00m \u001B[38;5;21;01mdipy\u001B[39;00m\u001B[38;5;21;01m.\u001B[39;00m\u001B[38;5;21;01mio\u001B[39;00m\u001B[38;5;21;01m.\u001B[39;00m\u001B[38;5;21;01mimage\u001B[39;00m \u001B[38;5;28;01mimport\u001B[39;00m load_nifti\n\u001B[0;32m      3\u001B[0m data, affine, img \u001B[38;5;241m=\u001B[39m load_nifti(dwi_file, return_img\u001B[38;5;241m=\u001B[39m\u001B[38;5;28;01mTrue\u001B[39;00m)\n\u001B[1;32m----> 4\u001B[0m viz\u001B[38;5;241m.\u001B[39mplot_dwi(data, affine\u001B[38;5;241m=\u001B[39maffine)\n",
      "File \u001B[1;32mC:\\anaconda3\\Lib\\site-packages\\eddymotion\\viz.py:20\u001B[0m, in \u001B[0;36mplot_dwi\u001B[1;34m(dataobj, affine, gradient, **kwargs)\u001B[0m\n\u001B[0;32m     11\u001B[0m plt\u001B[38;5;241m.\u001B[39mrcParams\u001B[38;5;241m.\u001B[39mupdate(\n\u001B[0;32m     12\u001B[0m     {\n\u001B[0;32m     13\u001B[0m         \u001B[38;5;124m\"\u001B[39m\u001B[38;5;124mtext.usetex\u001B[39m\u001B[38;5;124m\"\u001B[39m: \u001B[38;5;28;01mTrue\u001B[39;00m,\n\u001B[1;32m   (...)\u001B[0m\n\u001B[0;32m     16\u001B[0m     }\n\u001B[0;32m     17\u001B[0m )\n\u001B[0;32m     19\u001B[0m affine \u001B[38;5;241m=\u001B[39m np\u001B[38;5;241m.\u001B[39mdiag(nb\u001B[38;5;241m.\u001B[39maffines\u001B[38;5;241m.\u001B[39mvoxel_sizes(affine)\u001B[38;5;241m.\u001B[39mtolist() \u001B[38;5;241m+\u001B[39m [\u001B[38;5;241m1\u001B[39m])\n\u001B[1;32m---> 20\u001B[0m affine[:\u001B[38;5;241m3\u001B[39m, \u001B[38;5;241m3\u001B[39m] \u001B[38;5;241m=\u001B[39m \u001B[38;5;241m-\u001B[39m\u001B[38;5;241m1.0\u001B[39m \u001B[38;5;241m*\u001B[39m (affine[:\u001B[38;5;241m3\u001B[39m, :\u001B[38;5;241m3\u001B[39m] \u001B[38;5;241m@\u001B[39m ((np\u001B[38;5;241m.\u001B[39marray(dataobj\u001B[38;5;241m.\u001B[39mshape) \u001B[38;5;241m-\u001B[39m \u001B[38;5;241m1\u001B[39m) \u001B[38;5;241m*\u001B[39m \u001B[38;5;241m0.5\u001B[39m))\n\u001B[0;32m     22\u001B[0m vmax \u001B[38;5;241m=\u001B[39m kwargs\u001B[38;5;241m.\u001B[39mpop(\u001B[38;5;124m\"\u001B[39m\u001B[38;5;124mvmax\u001B[39m\u001B[38;5;124m\"\u001B[39m, \u001B[38;5;28;01mNone\u001B[39;00m) \u001B[38;5;129;01mor\u001B[39;00m np\u001B[38;5;241m.\u001B[39mpercentile(dataobj, \u001B[38;5;241m98\u001B[39m)\n\u001B[0;32m     23\u001B[0m cut_coords \u001B[38;5;241m=\u001B[39m kwargs\u001B[38;5;241m.\u001B[39mpop(\u001B[38;5;124m\"\u001B[39m\u001B[38;5;124mcut_coords\u001B[39m\u001B[38;5;124m\"\u001B[39m, \u001B[38;5;28;01mNone\u001B[39;00m) \u001B[38;5;129;01mor\u001B[39;00m (\u001B[38;5;241m0\u001B[39m, \u001B[38;5;241m0\u001B[39m, \u001B[38;5;241m0\u001B[39m)\n",
      "\u001B[1;31mValueError\u001B[0m: matmul: Input operand 1 has a mismatch in its core dimension 0, with gufunc signature (n?,k),(k,m?)->(n?,m?) (size 4 is different from 3)"
     ]
    }
   ],
   "source": [
    "from eddymotion import viz\n",
    "from dipy.io.image import load_nifti\n",
    "data, affine, img = load_nifti(dwi_file, return_img=True)\n",
    "viz.plot_dwi(data, affine=affine)"
   ]
  },
  {
   "cell_type": "code",
   "execution_count": null,
   "outputs": [],
   "source": [],
   "metadata": {
    "collapsed": false
   }
  }
 ],
 "metadata": {
  "kernelspec": {
   "display_name": "Python 3",
   "language": "python",
   "name": "python3"
  },
  "language_info": {
   "codemirror_mode": {
    "name": "ipython",
    "version": 3
   },
   "file_extension": ".py",
   "mimetype": "text/x-python",
   "name": "python",
   "nbconvert_exporter": "python",
   "pygments_lexer": "ipython3",
   "version": "3.8.3"
  }
 },
 "nbformat": 4,
 "nbformat_minor": 5
}
